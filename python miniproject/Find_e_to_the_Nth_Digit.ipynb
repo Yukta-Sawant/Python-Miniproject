{
  "nbformat": 4,
  "nbformat_minor": 0,
  "metadata": {
    "colab": {
      "provenance": []
    },
    "kernelspec": {
      "name": "python3",
      "display_name": "Python 3"
    },
    "language_info": {
      "name": "python"
    }
  },
  "cells": [
    {
      "cell_type": "code",
      "execution_count": 4,
      "metadata": {
        "colab": {
          "base_uri": "https://localhost:8080/"
        },
        "id": "cmFkM-X5gn1D",
        "outputId": "370cfd46-666b-4f94-c60b-0d37a798925b"
      },
      "outputs": [
        {
          "output_type": "stream",
          "name": "stdout",
          "text": [
            "Enter the number of digits you want after the decimal for e: 3\n",
            "2.718\n"
          ]
        }
      ],
      "source": [
        "import math\n",
        "\n",
        "def CalculateE(roundVal):\n",
        "\n",
        "\t\tsomeE = round(math.e,roundVal);\n",
        "\t\te = str(someE)\n",
        "\t\tsomeList = list(e)\n",
        "\t\treturn someE;\n",
        "\n",
        "\n",
        "\n",
        "\n",
        "\n",
        "roundTo = input('Enter the number of digits you want after the decimal for e: ')\n",
        "try:\n",
        "\troundint = int(roundTo);\n",
        "\tprint (CalculateE(roundint));\n",
        "except:\n",
        "\tprint (\"You did not enter an integer\");"
      ]
    }
  ]
}