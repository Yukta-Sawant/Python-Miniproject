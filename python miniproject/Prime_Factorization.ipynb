{
  "nbformat": 4,
  "nbformat_minor": 0,
  "metadata": {
    "colab": {
      "provenance": []
    },
    "kernelspec": {
      "name": "python3",
      "display_name": "Python 3"
    },
    "language_info": {
      "name": "python"
    }
  },
  "cells": [
    {
      "cell_type": "code",
      "execution_count": 9,
      "metadata": {
        "colab": {
          "base_uri": "https://localhost:8080/"
        },
        "id": "cmFkM-X5gn1D",
        "outputId": "71a3ef32-0fea-4ad4-c0c4-ef6cb58de66c"
      },
      "outputs": [
        {
          "name": "stdout",
          "output_type": "stream",
          "text": [
            "Welcome to the Prime Factorizer.. Enter the numbers in the prompt or enter 'quit' to exit\n",
            ">>>7\n",
            "7\n",
            ">>>8\n",
            "2*2*2\n",
            ">>>9\n",
            "3*3\n",
            ">>>\n",
            ">>>quit\n"
          ]
        }
      ],
      "source": [
        "factors = lambda n: [x for x in range(1,n+1) if not n%x]\n",
        "is_prime = lambda n: len(factors(n))==2\n",
        "primefactors = lambda n: list(filter(is_prime ,factors(n)))\n",
        "\n",
        "def primeFactorize(n):\n",
        "\tn = int(n)\n",
        "\tf = primefactors(n)\n",
        "\tif is_prime(n):\n",
        "\t\treturn str(n)\n",
        "\telse:\n",
        "\t\treturn str(f[0])+ \"*\"+primeFactorize(n/f[0])\n",
        "\n",
        "if __name__=='__main__':\n",
        "\tprint (\"Welcome to the Prime Factorizer.. Enter the numbers in the prompt or enter 'quit' to exit\")\n",
        "\tnum=0;\n",
        "\n",
        "\twhile True:\n",
        "\t\tif num:\n",
        "\t\t\tprint(primeFactorize(num))\n",
        "\t\tprint(\">>>\",end='')\n",
        "\t\tnum=input()\n",
        "\t\tif num==\"quit\":\n",
        "\t\t\tbreak"
      ]
    }
  ]
}