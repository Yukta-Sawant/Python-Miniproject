{
  "nbformat": 4,
  "nbformat_minor": 0,
  "metadata": {
    "colab": {
      "provenance": []
    },
    "kernelspec": {
      "name": "python3",
      "display_name": "Python 3"
    },
    "language_info": {
      "name": "python"
    }
  },
  "cells": [
    {
      "cell_type": "code",
      "execution_count": 21,
      "metadata": {
        "colab": {
          "base_uri": "https://localhost:8080/"
        },
        "id": "pZ977bfvwdNi",
        "outputId": "bf3b16de-bb56-4570-e43d-f3004fd8df2a"
      },
      "outputs": [
        {
          "output_type": "stream",
          "name": "stdout",
          "text": [
            "gnirtS elpmaxE\n"
          ]
        }
      ],
      "source": [
        "def reverse_string(string):\n",
        "\treverse_string = ''\n",
        "\tnum = len(string) - 1\n",
        "\tfor i in string:\n",
        "\t\treverse_string += string[num]\n",
        "\t\tnum-=1\n",
        "\treturn reverse_string\n",
        "\n",
        "print (reverse_string(\"Example String\"))"
      ]
    }
  ]
}