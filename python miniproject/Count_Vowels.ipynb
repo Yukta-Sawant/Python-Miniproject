{
  "nbformat": 4,
  "nbformat_minor": 0,
  "metadata": {
    "colab": {
      "provenance": []
    },
    "kernelspec": {
      "name": "python3",
      "display_name": "Python 3"
    },
    "language_info": {
      "name": "python"
    }
  },
  "cells": [
    {
      "cell_type": "code",
      "source": [
        "def count_vowels(string):\n",
        "\tvowels = ['a', 'e', 'i', 'o', 'u']\n",
        "\tlower_string = string.lower()\n",
        "\tvowel_count = 0\n",
        "\tfor char in lower_string:\n",
        "\t\tfor vowel in vowels:\n",
        "\t\t\tif char == vowel:\n",
        "\t\t\t\tvowel_count+=1\n",
        "\treturn vowel_count\n",
        "\n",
        "print (count_vowels(\"This is a sentence with vowels\"))\n",
        "print (count_vowels(\"There are 6 vowels\"))"
      ],
      "metadata": {
        "colab": {
          "base_uri": "https://localhost:8080/"
        },
        "id": "Dk_TUeY31kdg",
        "outputId": "a34f19b4-4480-48c5-f462-6edc753b5359"
      },
      "execution_count": 23,
      "outputs": [
        {
          "output_type": "stream",
          "name": "stdout",
          "text": [
            "9\n",
            "6\n"
          ]
        }
      ]
    }
  ]
}