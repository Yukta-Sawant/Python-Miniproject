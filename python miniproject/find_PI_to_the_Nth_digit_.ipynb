{
  "nbformat": 4,
  "nbformat_minor": 0,
  "metadata": {
    "colab": {
      "provenance": []
    },
    "kernelspec": {
      "name": "python3",
      "display_name": "Python 3"
    },
    "language_info": {
      "name": "python"
    }
  },
  "cells": [
    {
      "cell_type": "code",
      "execution_count": 4,
      "metadata": {
        "colab": {
          "base_uri": "https://localhost:8080/"
        },
        "id": "Fzbye6Vod44G",
        "outputId": "806b8291-8f0a-447e-ac51-b3c4a12e4f88"
      },
      "outputs": [
        {
          "output_type": "stream",
          "name": "stdout",
          "text": [
            "Enter the number of decimals to calculate to: 3\n",
            "3.141\n"
          ]
        }
      ],
      "source": [
        "def calcPi(limit):\n",
        "\n",
        "    q, r, t, k, n, l = 1, 0, 1, 1, 3, 3\n",
        "\n",
        "    decimal = limit\n",
        "    counter = 0\n",
        "\n",
        "    while counter != decimal + 1:\n",
        "            if 4 * q + r - t < n * t:\n",
        "\n",
        "                    yield n\n",
        "\n",
        "                    if counter == 0:\n",
        "                            yield '.'\n",
        "\n",
        "                    if decimal == counter:\n",
        "                            print('')\n",
        "                            break\n",
        "                    counter += 1\n",
        "                    nr = 10 * (r - n * t)\n",
        "                    n = ((10 * (3 * q + r)) // t) - 10 * n\n",
        "                    q *= 10\n",
        "                    r = nr\n",
        "            else:\n",
        "                    nr = (2 * q + r) * l\n",
        "                    nn = (q * (7 * k) + 2 + (r * l)) // (t * l)\n",
        "                    q *= k\n",
        "                    t *= l\n",
        "                    l += 2\n",
        "                    k += 1\n",
        "                    n = nn\n",
        "                    r = nr\n",
        "\n",
        "\n",
        "def main():\n",
        "    pi_digits = calcPi(int(input(\n",
        "        \"Enter the number of decimals to calculate to: \")))\n",
        "\n",
        "    i = 0\n",
        "\n",
        "\n",
        "    for d in pi_digits:\n",
        "            print(d, end='')\n",
        "            i += 1\n",
        "            if i == 40:\n",
        "                print(\"\")\n",
        "                i = 0\n",
        "\n",
        "if __name__ == '__main__':\n",
        "    main()"
      ]
    }
  ]
}