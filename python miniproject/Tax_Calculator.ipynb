{
  "nbformat": 4,
  "nbformat_minor": 0,
  "metadata": {
    "colab": {
      "provenance": []
    },
    "kernelspec": {
      "name": "python3",
      "display_name": "Python 3"
    },
    "language_info": {
      "name": "python"
    }
  },
  "cells": [
    {
      "cell_type": "code",
      "source": [
        "def total_cost(price, tax):\n",
        "    return int(price) + (int(price) * float(tax)/100)\n",
        "\n",
        "def main():\n",
        "    price = input('Enter the price of an item: $')\n",
        "    tax = input('Enter the tax rate(%): ')\n",
        "    print (\"The total cost is %.2f.\" % total_cost(price,tax))\n",
        "\n",
        "if __name__ == '__main__':\n",
        "    main()"
      ],
      "metadata": {
        "colab": {
          "base_uri": "https://localhost:8080/"
        },
        "id": "sYblOpRUsY2L",
        "outputId": "0fcc1e18-2afc-4c8a-f0c3-1ffdf606c1f9"
      },
      "execution_count": 44,
      "outputs": [
        {
          "output_type": "stream",
          "name": "stdout",
          "text": [
            "Enter the price of an item: $200\n",
            "Enter the tax rate(%): 10\n",
            "The total cost is 220.00.\n"
          ]
        }
      ]
    }
  ]
}