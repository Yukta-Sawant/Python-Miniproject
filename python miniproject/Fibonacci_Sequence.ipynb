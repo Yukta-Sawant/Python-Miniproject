{
  "nbformat": 4,
  "nbformat_minor": 0,
  "metadata": {
    "colab": {
      "provenance": []
    },
    "kernelspec": {
      "name": "python3",
      "display_name": "Python 3"
    },
    "language_info": {
      "name": "python"
    }
  },
  "cells": [
    {
      "cell_type": "code",
      "execution_count": 8,
      "metadata": {
        "colab": {
          "base_uri": "https://localhost:8080/"
        },
        "id": "cmFkM-X5gn1D",
        "outputId": "7864a0ba-f209-4d50-869b-c227a48e8340"
      },
      "outputs": [
        {
          "output_type": "stream",
          "name": "stdout",
          "text": [
            "How many numbers do you need? 5\n",
            "1, 1, 2, 3, 5\n"
          ]
        }
      ],
      "source": [
        "def fibSequence(n):\n",
        "\n",
        "    assert n > 0\n",
        "\n",
        "    series = [1]\n",
        "\n",
        "    while len(series) < n:\n",
        "        if len(series) == 1:\n",
        "            series.append(1)\n",
        "        else:\n",
        "            series.append(series[-1] + series[-2])\n",
        "\n",
        "    for i in range(len(series)):  # Convert the numbers to strings\n",
        "        series[i] = str(series[i])\n",
        "\n",
        "    return(', '.join(series))  # Return the sequence seperated by commas\n",
        "\n",
        "\n",
        "def main():  # Wrapper function\n",
        "\n",
        "    print(fibSequence(int(input('How many numbers do you need? '))))\n",
        "\n",
        "if __name__ == '__main__':\n",
        "    main()"
      ]
    }
  ]
}