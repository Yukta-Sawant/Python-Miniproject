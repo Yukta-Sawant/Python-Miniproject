{
  "nbformat": 4,
  "nbformat_minor": 0,
  "metadata": {
    "colab": {
      "provenance": []
    },
    "kernelspec": {
      "name": "python3",
      "display_name": "Python 3"
    },
    "language_info": {
      "name": "python"
    }
  },
  "cells": [
    {
      "cell_type": "code",
      "execution_count": 20,
      "metadata": {
        "colab": {
          "base_uri": "https://localhost:8080/"
        },
        "id": "cmFkM-X5gn1D",
        "outputId": "30101422-f6b8-4867-ff4c-1731b554229a"
      },
      "outputs": [
        {
          "output_type": "stream",
          "name": "stdout",
          "text": [
            "Please type the first number: 1\n",
            "Please type the second number: 2\n",
            "What kind of operation would you like to do?        \n",
            "Choose between \"+, -, *, /\" : +\n",
            "1 + 2 = 3\n"
          ]
        }
      ],
      "source": [
        "def calc(a, b, op):\n",
        "\n",
        "\n",
        "    if op not in '+-/*':\n",
        "        return 'Please only type one of these characters: \"+, -, *, /\"!'\n",
        "\n",
        "    if op == '+':\n",
        "        return(str(a) + ' ' + op + ' ' + str(b) + ' = ' + str(a + b))\n",
        "    if op == '-':\n",
        "        return(str(a) + ' ' + op + ' ' + str(b) + ' = ' + str(a - b))\n",
        "    if op == '*':\n",
        "        return(str(a) + ' ' + op + ' ' + str(b) + ' = ' + str(a * b))\n",
        "    if op == '/':\n",
        "        return(str(a) + ' ' + op + ' ' + str(b) + ' = ' + str(a / b))\n",
        "\n",
        "\n",
        "def main():  # Wrapper function\n",
        "\n",
        "    a = int(input('Please type the first number: '))\n",
        "    b = int(input('Please type the second number: '))\n",
        "    op = input(\n",
        "        'What kind of operation would you like to do?\\\n",
        "        \\nChoose between \"+, -, *, /\" : ')\n",
        "\n",
        "    print(calc(a, b, op))\n",
        "\n",
        "if __name__ == '__main__':\n",
        "    main()\n",
        ""
      ]
    }
  ]
}