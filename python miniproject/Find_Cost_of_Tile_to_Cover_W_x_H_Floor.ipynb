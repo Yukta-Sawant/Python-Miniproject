{
  "nbformat": 4,
  "nbformat_minor": 0,
  "metadata": {
    "colab": {
      "provenance": []
    },
    "kernelspec": {
      "name": "python3",
      "display_name": "Python 3"
    },
    "language_info": {
      "name": "python"
    }
  },
  "cells": [
    {
      "cell_type": "code",
      "execution_count": 13,
      "metadata": {
        "colab": {
          "base_uri": "https://localhost:8080/"
        },
        "id": "cmFkM-X5gn1D",
        "outputId": "15e6c048-9e77-446b-9b1e-b66ce1b0c191"
      },
      "outputs": [
        {
          "output_type": "stream",
          "name": "stdout",
          "text": [
            "2500.0\n",
            "12\n"
          ]
        }
      ],
      "source": [
        "costToCover = lambda w,h,ppm: w*h*ppm\n",
        "print(costToCover(50,100,0.5))\n",
        "\n",
        "\n",
        "def find_max_comb(seq):\n",
        "    temp = 0\n",
        "    for i,n in enumerate(seq):\n",
        "        for v in seq[i+1:]:\n",
        "            temp = max(temp,n+v)\n",
        "    return temp\n",
        "\n",
        "print(find_max_comb([1,7,3,1,3,5,4]))\n",
        ""
      ]
    }
  ]
}