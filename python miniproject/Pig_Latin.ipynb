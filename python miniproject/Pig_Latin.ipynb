{
  "nbformat": 4,
  "nbformat_minor": 0,
  "metadata": {
    "colab": {
      "provenance": []
    },
    "kernelspec": {
      "name": "python3",
      "display_name": "Python 3"
    },
    "language_info": {
      "name": "python"
    }
  },
  "cells": [
    {
      "cell_type": "code",
      "execution_count": 22,
      "metadata": {
        "colab": {
          "base_uri": "https://localhost:8080/"
        },
        "id": "pZ977bfvwdNi",
        "outputId": "d06adf21-2ad4-495c-a394-4af31015da6f"
      },
      "outputs": [
        {
          "output_type": "stream",
          "name": "stdout",
          "text": [
            "ananabay\n",
            "exampleway\n"
          ]
        }
      ],
      "source": [
        "def pig_latin(string):\n",
        "\tstring = string.lower()\n",
        "\tconsonants = ['b', 'c', 'd', 'f', 'g', 'h', 'j', 'k', 'l', 'm', 'n', 'p', 'q', 'r', 's', 't', 'v', 'w', 'x', 'y', 'z']\n",
        "\tfirst_letter = string[0]\n",
        "\tpig_latin = ''\n",
        "\tfor consonant in consonants:\n",
        "\t\tif first_letter == consonant:\n",
        "\t\t\tpig_latin = string.split(consonant, 1)[1] + first_letter +\"ay\"\n",
        "\t\t\treturn pig_latin\n",
        "\telse:\n",
        "\t\tpig_latin = string + \"way\"\n",
        "\t\treturn pig_latin\n",
        "\n",
        "print (pig_latin(\"Banana\"))\n",
        "print (pig_latin(\"example\"))"
      ]
    }
  ]
}