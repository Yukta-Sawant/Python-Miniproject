{
  "nbformat": 4,
  "nbformat_minor": 0,
  "metadata": {
    "colab": {
      "provenance": []
    },
    "kernelspec": {
      "name": "python3",
      "display_name": "Python 3"
    },
    "language_info": {
      "name": "python"
    }
  },
  "cells": [
    {
      "cell_type": "code",
      "execution_count": 10,
      "metadata": {
        "colab": {
          "base_uri": "https://localhost:8080/"
        },
        "id": "cmFkM-X5gn1D",
        "outputId": "586ba69c-d984-421d-9a47-b3c33f908209"
      },
      "outputs": [
        {
          "name": "stdout",
          "output_type": "stream",
          "text": [
            "Would you like to see the next prime? (Y/N) Y\n",
            "2\n",
            "Would you like to see the next prime? (Y/N) Y\n",
            "3\n",
            "Would you like to see the next prime? (Y/N) N\n"
          ]
        }
      ],
      "source": [
        "def isPrime(x):\n",
        "\n",
        "\n",
        "    if x == 2:\n",
        "        return True\n",
        "\n",
        "    if x % 2 == 0:\n",
        "        return False\n",
        "\n",
        "    for i in range(3, int(x**0.5)+1, 2):\n",
        "        if x % i == 0:\n",
        "            return False\n",
        "\n",
        "    return True\n",
        "\n",
        "\n",
        "def genPrime(currentPrime):\n",
        "\n",
        "\n",
        "    newPrime = currentPrime + 1\n",
        "\n",
        "    while True:\n",
        "\n",
        "        if not isPrime(newPrime):\n",
        "            newPrime += 1\n",
        "        else:\n",
        "            break\n",
        "\n",
        "    return newPrime\n",
        "\n",
        "\n",
        "def main():  # Wrapper function\n",
        "\n",
        "    currentPrime = 2\n",
        "\n",
        "    while True:\n",
        "\n",
        "        answer = input('Would you like to see the next prime? (Y/N) ')\n",
        "\n",
        "        if answer.lower().startswith('y'):\n",
        "            print(currentPrime)\n",
        "            currentPrime = genPrime(currentPrime)\n",
        "\n",
        "        else:\n",
        "            break\n",
        "\n",
        "if __name__ == '__main__':\n",
        "    main()"
      ]
    }
  ]
}