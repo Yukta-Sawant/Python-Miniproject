{
  "nbformat": 4,
  "nbformat_minor": 0,
  "metadata": {
    "colab": {
      "provenance": []
    },
    "kernelspec": {
      "name": "python3",
      "display_name": "Python 3"
    },
    "language_info": {
      "name": "python"
    }
  },
  "cells": [
    {
      "cell_type": "code",
      "source": [
        "def validate(n):\n",
        "\n",
        "\tintArray = intToArray(n)\n",
        "\n",
        "\tif len(intArray) % 2 == 0:\n",
        "\t\toddEven(0, intArray)\n",
        "\telse:\n",
        "\t\toddEven(1, intArray)\n",
        "\n",
        "\tif sum(intArray) % 10 == 0:\n",
        "\t\treturn True\n",
        "\telse:\n",
        "\t\treturn False\n",
        "\n",
        "def intToArray(n):\n",
        "\tmyArray = str(n)\n",
        "\n",
        "\tintArray = []\n",
        "\tfor x in myArray:\n",
        "\t\tintArray.append(int(x))\n",
        "\n",
        "\treturn intArray\n",
        "\n",
        "#Doubles and sums array values\n",
        "#Odd numbers have startIndex 1\n",
        "def oddEven(startIndex, intArray):\n",
        "    for i in range(startIndex, len(intArray), 2):\n",
        "        newDigit = intArray[i] * 2\n",
        "        if newDigit < 10:\n",
        "            intArray[i] = newDigit\n",
        "        else:\n",
        "            intArray[i] = sumOfDigits(newDigit)\n",
        "\n",
        "def sumOfDigits(n):\n",
        "    return (n / 10) + (n % 10)\n",
        "\n",
        "print (validate(input(\"Enter CC number to validate\\r\\n>\")))"
      ],
      "metadata": {
        "colab": {
          "base_uri": "https://localhost:8080/"
        },
        "id": "sYblOpRUsY2L",
        "outputId": "016ac9c9-fd23-40bd-923b-36db6e3882ba"
      },
      "execution_count": 40,
      "outputs": [
        {
          "output_type": "stream",
          "name": "stdout",
          "text": [
            "Enter CC number to validate\r\n",
            ">2\n",
            "False\n"
          ]
        }
      ]
    },
    {
      "cell_type": "code",
      "source": [],
      "metadata": {
        "id": "6tmkixvEs-s3"
      },
      "execution_count": null,
      "outputs": []
    }
  ]
}