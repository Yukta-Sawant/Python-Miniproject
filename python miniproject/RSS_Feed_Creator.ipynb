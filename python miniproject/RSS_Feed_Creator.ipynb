{
  "nbformat": 4,
  "nbformat_minor": 0,
  "metadata": {
    "colab": {
      "provenance": []
    },
    "kernelspec": {
      "name": "python3",
      "display_name": "Python 3"
    },
    "language_info": {
      "name": "python"
    }
  },
  "cells": [
    {
      "cell_type": "code",
      "source": [
        "pip install feedparser"
      ],
      "metadata": {
        "colab": {
          "base_uri": "https://localhost:8080/"
        },
        "id": "38IZTTFf36mg",
        "outputId": "c0d2e178-979c-4c28-f299-f1704c941e48"
      },
      "execution_count": 33,
      "outputs": [
        {
          "output_type": "stream",
          "name": "stdout",
          "text": [
            "Collecting feedparser\n",
            "  Downloading feedparser-6.0.10-py3-none-any.whl (81 kB)\n",
            "\u001b[?25l     \u001b[90m━━━━━━━━━━━━━━━━━━━━━━━━━━━━━━━━━━━━━━━━\u001b[0m \u001b[32m0.0/81.1 kB\u001b[0m \u001b[31m?\u001b[0m eta \u001b[36m-:--:--\u001b[0m\r\u001b[2K     \u001b[90m━━━━━━━━━━━━━━━━━━━━━━━━━━━━━━━━━━━━━━━━\u001b[0m \u001b[32m81.1/81.1 kB\u001b[0m \u001b[31m3.0 MB/s\u001b[0m eta \u001b[36m0:00:00\u001b[0m\n",
            "\u001b[?25hCollecting sgmllib3k (from feedparser)\n",
            "  Downloading sgmllib3k-1.0.0.tar.gz (5.8 kB)\n",
            "  Preparing metadata (setup.py) ... \u001b[?25l\u001b[?25hdone\n",
            "Building wheels for collected packages: sgmllib3k\n",
            "  Building wheel for sgmllib3k (setup.py) ... \u001b[?25l\u001b[?25hdone\n",
            "  Created wheel for sgmllib3k: filename=sgmllib3k-1.0.0-py3-none-any.whl size=6047 sha256=4069ae391d8c94ea0952342358b4f04f69c2de99dfff3a34e553c13ea7a94ef8\n",
            "  Stored in directory: /root/.cache/pip/wheels/f0/69/93/a47e9d621be168e9e33c7ce60524393c0b92ae83cf6c6e89c5\n",
            "Successfully built sgmllib3k\n",
            "Installing collected packages: sgmllib3k, feedparser\n",
            "Successfully installed feedparser-6.0.10 sgmllib3k-1.0.0\n"
          ]
        }
      ]
    },
    {
      "cell_type": "code",
      "source": [
        "import feedparser\n",
        "\n",
        "\n",
        "\n",
        "\n",
        "def printChannelInfo(feedInfo):\n",
        "\n",
        "    args = [\"title\",\"description\",\"link\"]\n",
        "\n",
        "    if \"url\" in feedInfo:\n",
        "        print (\"\\n The url for this feed is: \\n %s \\n\") % feedInfo[\"url\"]\n",
        "\n",
        "    if \"version\" in feedInfo:\n",
        "        print (\"The version for this feed is: \\n %s \\n\") % feedInfo[\"version\"]\n",
        "\n",
        "    if \"channel\" in feedInfo:\n",
        "        for arg in args:\n",
        "            if arg in feedInfo[\"channel\"]:\n",
        "                print (\"The channel %s  : \\n %s \") % (arg,feedInfo[\"channel\"][arg])\n",
        "        print (\"\\n\")\n",
        "\n",
        "\n",
        "\n",
        "def printFeedItemInfo(feedInfo):\n",
        "\n",
        "    items = feedInfo[\"items\"]\n",
        "    args = [\"title\",\"summary\",\"link\"]\n",
        "    for item in items:\n",
        "        print (\"########################################\")\n",
        "        for arg in args:\n",
        "            if arg in item:\n",
        "                print (\"%s  : \\n %s \") % (arg,item[arg])\n",
        "        print (\"\\n\")\n",
        "\n",
        "\n",
        "def main():\n",
        "    url = input(\"enter the RSS feed url to parse: \")\n",
        "    feedInfo = feedparser.parse(url)\n",
        "\n",
        "    if feedInfo[\"bozo\"] == 0:\n",
        "        printChannelInfo(feedInfo)\n",
        "        printFeedItemInfo(feedInfo)\n",
        "    else:\n",
        "        print (\"invalid RSS feed URL\")\n",
        "\n",
        "if __name__==\"__main__\":\n",
        "    main()"
      ],
      "metadata": {
        "colab": {
          "base_uri": "https://localhost:8080/"
        },
        "id": "Dk_TUeY31kdg",
        "outputId": "364c5c78-75b5-4733-a149-5af14d6540b4"
      },
      "execution_count": 34,
      "outputs": [
        {
          "output_type": "stream",
          "name": "stdout",
          "text": [
            "enter the RSS feed url to parse: https://stackoverflow.com/questions/16291170/python-feedparser-importerror-no-module-named-feedparser\n",
            "invalid RSS feed URL\n"
          ]
        }
      ]
    }
  ]
}