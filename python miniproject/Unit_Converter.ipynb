{
  "nbformat": 4,
  "nbformat_minor": 0,
  "metadata": {
    "colab": {
      "provenance": []
    },
    "kernelspec": {
      "name": "python3",
      "display_name": "Python 3"
    },
    "language_info": {
      "name": "python"
    }
  },
  "cells": [
    {
      "cell_type": "code",
      "execution_count": 22,
      "metadata": {
        "id": "cmFkM-X5gn1D"
      },
      "outputs": [],
      "source": [
        "from math import ceil\n",
        "import urllib.request\n",
        "import json\n",
        "\n",
        "class Converter():\n",
        "    _temps   = {'cf': lambda c: c*(9/5)+32,\n",
        "               'fc': lambda f: (f-32)*(5/9),\n",
        "               'ck': lambda c: c+273.15,\n",
        "               'kc': lambda k: k-273.15,\n",
        "               'fk': lambda f: (f+459.67)*5/9,\n",
        "               'kf': lambda k: k*(9/5)-459.67\n",
        "        }\n",
        "\n",
        "    @classmethod\n",
        "    def binToDec(cls, bin_no):\n",
        "\n",
        "        dec     = 0\n",
        "        i       = 0\n",
        "        if not isinstance(bin_no,int):\n",
        "            try: bin_no = int(bin_no)\n",
        "            except: raise TypeError\n",
        "        while bin_no>0:\n",
        "            dec     += ((bin_no%10)*(2**i))\n",
        "            bin_no  //= 10\n",
        "            i       += 1\n",
        "        return dec\n",
        "\n",
        "\n",
        "\n",
        "    @classmethod\n",
        "    def decToBin(cls, dec_no, bit_rep):\n",
        "\n",
        "        if dec_no > 0:\n",
        "            return str(bin(dec_no)[2:].zfill(bit_rep))\n",
        "        return '-' + str(bin(dec_no))[2:].zfill(bit_rep)\n",
        "\n",
        "\n",
        "    @classmethod\n",
        "    def currencyExchange(cls,con_from,con_to,value):\n",
        "\n",
        "        result          = 0\n",
        "        curr_page       = urllib.request.urlopen('http://openexchangerates.org/api/latest.json?app_id=9f0710764c064370932f4f2496968c62')\n",
        "        obj             = curr_page.read().decode(encoding='UTF-8')\n",
        "        content         = json.loads(obj)\n",
        "        try:\n",
        "            _from       = content['rates'][con_from]\n",
        "            _to         = content['rates'][con_to]\n",
        "            convert_amt = _to/_from\n",
        "            result      = convert_amt*value\n",
        "        except:\n",
        "            raise NameError\n",
        "        return result\n",
        "\n",
        "\n",
        "\n",
        "    @classmethod\n",
        "    def tempConvert(cls,msr_from,msr_to,amt):\n",
        "\n",
        "        try: return cls._temps[msr_from[0]+msr_to[0]](amt)\n",
        "        except KeyError: \"Cannot convert from {0} to {1}\".format(msr_from,msr_to)\n",
        "\n",
        "    pass"
      ]
    }
  ]
}